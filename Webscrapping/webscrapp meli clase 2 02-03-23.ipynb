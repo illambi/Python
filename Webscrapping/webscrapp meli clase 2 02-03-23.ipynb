{
 "cells": [
  {
   "cell_type": "code",
   "execution_count": 1,
   "id": "8d0c0b46",
   "metadata": {},
   "outputs": [],
   "source": [
    "import pandas as pd\n",
    "import numpy as np\n",
    "import requests\n",
    "from bs4 import BeautifulSoup\n",
    "from lxml import etree\n",
    "from datetime import date\n",
    "from datetime import datetime\n",
    "import seaborn as sns"
   ]
  },
  {
   "cell_type": "code",
   "execution_count": 2,
   "id": "a62cbd9e",
   "metadata": {},
   "outputs": [
    {
     "data": {
      "text/plain": [
       "200"
      ]
     },
     "execution_count": 2,
     "metadata": {},
     "output_type": "execute_result"
    }
   ],
   "source": [
    "#si es 200 estamos bien sino buscar el motivo\n",
    "url = requests.get('https://listado.mercadolibre.com.ar/bicicleta')\n",
    "\n",
    "soup = BeautifulSoup(url.content, 'html.parser')\n",
    "\n",
    "url.status_code"
   ]
  },
  {
   "cell_type": "code",
   "execution_count": 3,
   "id": "a8f14b19",
   "metadata": {},
   "outputs": [],
   "source": [
    "#No hace falta hacerlo pero es un check para ver que accedi a la url\n",
    "#url.content"
   ]
  },
  {
   "cell_type": "code",
   "execution_count": 4,
   "id": "02eba697",
   "metadata": {},
   "outputs": [],
   "source": [
    "titulos = soup.find_all('h2', attrs={\"class\":'ui-search-item__title shops__item-title'})"
   ]
  },
  {
   "cell_type": "code",
   "execution_count": 6,
   "id": "fdc38013",
   "metadata": {},
   "outputs": [
    {
     "data": {
      "text/plain": [
       "56"
      ]
     },
     "execution_count": 6,
     "metadata": {},
     "output_type": "execute_result"
    }
   ],
   "source": [
    "len(titulos)"
   ]
  },
  {
   "cell_type": "code",
   "execution_count": 5,
   "id": "e8c0d135",
   "metadata": {},
   "outputs": [
    {
     "data": {
      "text/plain": [
       "'Bicicleta Infantil Rodado 14 Urby Bikes Con Rueditas'"
      ]
     },
     "execution_count": 5,
     "metadata": {},
     "output_type": "execute_result"
    }
   ],
   "source": [
    "titulos[0].text"
   ]
  },
  {
   "cell_type": "code",
   "execution_count": 7,
   "id": "858c3f2f",
   "metadata": {},
   "outputs": [],
   "source": [
    "#No hace falta hacerlo si estan cancheros\n",
    "#for i in titulos:\n",
    "#    print(i.text)"
   ]
  },
  {
   "cell_type": "code",
   "execution_count": 8,
   "id": "24639f07",
   "metadata": {},
   "outputs": [],
   "source": [
    "titulos = [i.text for i in titulos]"
   ]
  },
  {
   "cell_type": "code",
   "execution_count": 9,
   "id": "189af7c8",
   "metadata": {},
   "outputs": [],
   "source": [
    "urls = soup.find_all('a', attrs={'class':'ui-search-item__group__element shops__items-group-details ui-search-link'})"
   ]
  },
  {
   "cell_type": "code",
   "execution_count": 10,
   "id": "65f46c2d",
   "metadata": {},
   "outputs": [
    {
     "data": {
      "text/plain": [
       "'https://click1.mercadolibre.com.ar/mclics/clicks/external/MLA/count?a=OJcuy7L%2Fvz5io%2Bd%2Fsg6BTs4bbVnRWtdZwMCFctjcXQ07cyRteuhZ1q%2BvpooA7JNvHpUQTUfhDItEOIv3kpOgN5D3g2zZNcLhEcYzk%2Bb7VCmLswuYMdTlEkk8i87r%2FBCWxBv2idA5T%2BVPcN8JQvnrxKlL2qN2I%2BULbIv8Pof%2B9WzWyPE0A2PPm5NSMzGle1Jlt79vFUQbDMBofABrVSbuKuoHEMN%2BqTfdwsYa5t8%2FCs8nYvhGOYoAi%2Ff71bDIvFdn7AJdDCkbfBHZN0g2k9kD5iIKgOOtqVK60YxNE60A%2F%2FwMRI86MBgJDMMeigTO63N9TxbD2R%2BrvPuUbHB3oNDhseS4pygDOmzMPVuzw5oT9L6coi2%2B8s3ROJoZTO1MlwBJ1KKg4ZhT%2BFpnG2okuO8WMYlpgAlrYkkbUHsRyCVtbatVGTaxEcWypeqNfF2rEWpxVnzyRi%2F6ikcLBn3F%2BFz4q6kCfPfyvH7Shz6ZJbZ%2BGgtHJP98QarFjTW%2BchLo8ZhvCHYvv2Kg5vmcYXMs8TkFfkj6zt53UBQ%2BSeSdeTTZUdiM723vSUdgL2iq77HNRhQkdMkubgDqQQZO4G1Qh9zG2RAxF1NStodsbyosU6lb4Ld0FKUvDSilyRKoDfy6Us6T5JLJF1xXP5OnFs23Y1N1Gac9GreRKrvo8RIAwnzoSuBjQN0P6926LCSpZsjYXeUZJyQEN6JEpu8MZhbuTNJKJA%3D%3D&rb=x'"
      ]
     },
     "execution_count": 10,
     "metadata": {},
     "output_type": "execute_result"
    }
   ],
   "source": [
    "urls[0].get('href')"
   ]
  },
  {
   "cell_type": "code",
   "execution_count": 11,
   "id": "f0a38c3f",
   "metadata": {},
   "outputs": [],
   "source": [
    "urls = [i.get('href') for i in urls]"
   ]
  },
  {
   "cell_type": "code",
   "execution_count": 12,
   "id": "a71f7ed5",
   "metadata": {},
   "outputs": [
    {
     "name": "stdout",
     "output_type": "stream",
     "text": [
      "56\n"
     ]
    },
    {
     "data": {
      "text/plain": [
       "56"
      ]
     },
     "execution_count": 12,
     "metadata": {},
     "output_type": "execute_result"
    }
   ],
   "source": [
    "print(len(titulos))\n",
    "len(urls)"
   ]
  },
  {
   "cell_type": "code",
   "execution_count": 14,
   "id": "e60770f3",
   "metadata": {},
   "outputs": [
    {
     "data": {
      "text/html": [
       "<div>\n",
       "<style scoped>\n",
       "    .dataframe tbody tr th:only-of-type {\n",
       "        vertical-align: middle;\n",
       "    }\n",
       "\n",
       "    .dataframe tbody tr th {\n",
       "        vertical-align: top;\n",
       "    }\n",
       "\n",
       "    .dataframe thead th {\n",
       "        text-align: right;\n",
       "    }\n",
       "</style>\n",
       "<table border=\"1\" class=\"dataframe\">\n",
       "  <thead>\n",
       "    <tr style=\"text-align: right;\">\n",
       "      <th></th>\n",
       "      <th>titulos</th>\n",
       "      <th>url</th>\n",
       "      <th>fecha_obs</th>\n",
       "    </tr>\n",
       "  </thead>\n",
       "  <tbody>\n",
       "    <tr>\n",
       "      <th>0</th>\n",
       "      <td>Bicicleta Infantil Rodado 14 Urby Bikes Con Ru...</td>\n",
       "      <td>https://click1.mercadolibre.com.ar/mclics/clic...</td>\n",
       "      <td>2023-03-02</td>\n",
       "    </tr>\n",
       "    <tr>\n",
       "      <th>1</th>\n",
       "      <td>Bicicleta Mtb Battle 211 R29 21v Aluminio Disc...</td>\n",
       "      <td>https://click1.mercadolibre.com.ar/mclics/clic...</td>\n",
       "      <td>2023-03-02</td>\n",
       "    </tr>\n",
       "    <tr>\n",
       "      <th>2</th>\n",
       "      <td>Bicicleta Fire Bird Rodado 29 Freno Disco + Su...</td>\n",
       "      <td>https://articulo.mercadolibre.com.ar/MLA-11497...</td>\n",
       "      <td>2023-03-02</td>\n",
       "    </tr>\n",
       "    <tr>\n",
       "      <th>3</th>\n",
       "      <td>Bicicleta Ghepard X 2.0 Mtb R29 Shimano Alumin...</td>\n",
       "      <td>https://articulo.mercadolibre.com.ar/MLA-11459...</td>\n",
       "      <td>2023-03-02</td>\n",
       "    </tr>\n",
       "    <tr>\n",
       "      <th>4</th>\n",
       "      <td>Bicicleta Nordic X1.0 By Slp R29 21v Disco Sus...</td>\n",
       "      <td>https://articulo.mercadolibre.com.ar/MLA-92954...</td>\n",
       "      <td>2023-03-02</td>\n",
       "    </tr>\n",
       "  </tbody>\n",
       "</table>\n",
       "</div>"
      ],
      "text/plain": [
       "                                             titulos  \\\n",
       "0  Bicicleta Infantil Rodado 14 Urby Bikes Con Ru...   \n",
       "1  Bicicleta Mtb Battle 211 R29 21v Aluminio Disc...   \n",
       "2  Bicicleta Fire Bird Rodado 29 Freno Disco + Su...   \n",
       "3  Bicicleta Ghepard X 2.0 Mtb R29 Shimano Alumin...   \n",
       "4  Bicicleta Nordic X1.0 By Slp R29 21v Disco Sus...   \n",
       "\n",
       "                                                 url   fecha_obs  \n",
       "0  https://click1.mercadolibre.com.ar/mclics/clic...  2023-03-02  \n",
       "1  https://click1.mercadolibre.com.ar/mclics/clic...  2023-03-02  \n",
       "2  https://articulo.mercadolibre.com.ar/MLA-11497...  2023-03-02  \n",
       "3  https://articulo.mercadolibre.com.ar/MLA-11459...  2023-03-02  \n",
       "4  https://articulo.mercadolibre.com.ar/MLA-92954...  2023-03-02  "
      ]
     },
     "execution_count": 14,
     "metadata": {},
     "output_type": "execute_result"
    }
   ],
   "source": [
    "df = pd.DataFrame({'titulos':titulos, 'url':urls})\n",
    "df['fecha_obs'] = date.today()\n",
    "df.head()"
   ]
  },
  {
   "cell_type": "code",
   "execution_count": 15,
   "id": "bd0937b5",
   "metadata": {},
   "outputs": [],
   "source": [
    "dom = etree.HTML(str(soup))\n",
    "\n",
    "precios = dom.xpath('//li[@class=\"ui-search-layout__item shops__layout-item\"]//div[@class=\"ui-search-result__content-columns shops__content-columns\"]/div[@class=\"ui-search-result__content-column ui-search-result__content-column--left shops__content-columns-left\"]//div[1]//div[@class=\"ui-search-price__second-line shops__price-second-line\"]//span[@class=\"price-tag-amount\"]/span[2]')"
   ]
  },
  {
   "cell_type": "code",
   "execution_count": 18,
   "id": "5b6f172e",
   "metadata": {},
   "outputs": [
    {
     "data": {
      "text/plain": [
       "'26.240'"
      ]
     },
     "execution_count": 18,
     "metadata": {},
     "output_type": "execute_result"
    }
   ],
   "source": [
    "precios[0].text"
   ]
  },
  {
   "cell_type": "code",
   "execution_count": 19,
   "id": "395c5687",
   "metadata": {},
   "outputs": [
    {
     "data": {
      "text/plain": [
       "56"
      ]
     },
     "execution_count": 19,
     "metadata": {},
     "output_type": "execute_result"
    }
   ],
   "source": [
    "len(precios)"
   ]
  },
  {
   "cell_type": "code",
   "execution_count": 20,
   "id": "6f756629",
   "metadata": {},
   "outputs": [],
   "source": [
    "precios = [i.text for i in precios]"
   ]
  },
  {
   "cell_type": "code",
   "execution_count": 22,
   "id": "137a36fb",
   "metadata": {},
   "outputs": [
    {
     "data": {
      "text/html": [
       "<div>\n",
       "<style scoped>\n",
       "    .dataframe tbody tr th:only-of-type {\n",
       "        vertical-align: middle;\n",
       "    }\n",
       "\n",
       "    .dataframe tbody tr th {\n",
       "        vertical-align: top;\n",
       "    }\n",
       "\n",
       "    .dataframe thead th {\n",
       "        text-align: right;\n",
       "    }\n",
       "</style>\n",
       "<table border=\"1\" class=\"dataframe\">\n",
       "  <thead>\n",
       "    <tr style=\"text-align: right;\">\n",
       "      <th></th>\n",
       "      <th>titulos</th>\n",
       "      <th>link</th>\n",
       "      <th>precios</th>\n",
       "      <th>fecha_obs</th>\n",
       "    </tr>\n",
       "  </thead>\n",
       "  <tbody>\n",
       "    <tr>\n",
       "      <th>0</th>\n",
       "      <td>Bicicleta Infantil Rodado 14 Urby Bikes Con Ru...</td>\n",
       "      <td>https://click1.mercadolibre.com.ar/mclics/clic...</td>\n",
       "      <td>26.240</td>\n",
       "      <td>2023-03-02</td>\n",
       "    </tr>\n",
       "    <tr>\n",
       "      <th>1</th>\n",
       "      <td>Bicicleta Mtb Battle 211 R29 21v Aluminio Disc...</td>\n",
       "      <td>https://click1.mercadolibre.com.ar/mclics/clic...</td>\n",
       "      <td>90.999</td>\n",
       "      <td>2023-03-02</td>\n",
       "    </tr>\n",
       "    <tr>\n",
       "      <th>2</th>\n",
       "      <td>Bicicleta Fire Bird Rodado 29 Freno Disco + Su...</td>\n",
       "      <td>https://articulo.mercadolibre.com.ar/MLA-11497...</td>\n",
       "      <td>76.351</td>\n",
       "      <td>2023-03-02</td>\n",
       "    </tr>\n",
       "    <tr>\n",
       "      <th>3</th>\n",
       "      <td>Bicicleta Ghepard X 2.0 Mtb R29 Shimano Alumin...</td>\n",
       "      <td>https://articulo.mercadolibre.com.ar/MLA-11459...</td>\n",
       "      <td>79.284</td>\n",
       "      <td>2023-03-02</td>\n",
       "    </tr>\n",
       "    <tr>\n",
       "      <th>4</th>\n",
       "      <td>Bicicleta Nordic X1.0 By Slp R29 21v Disco Sus...</td>\n",
       "      <td>https://articulo.mercadolibre.com.ar/MLA-92954...</td>\n",
       "      <td>69.341</td>\n",
       "      <td>2023-03-02</td>\n",
       "    </tr>\n",
       "  </tbody>\n",
       "</table>\n",
       "</div>"
      ],
      "text/plain": [
       "                                             titulos  \\\n",
       "0  Bicicleta Infantil Rodado 14 Urby Bikes Con Ru...   \n",
       "1  Bicicleta Mtb Battle 211 R29 21v Aluminio Disc...   \n",
       "2  Bicicleta Fire Bird Rodado 29 Freno Disco + Su...   \n",
       "3  Bicicleta Ghepard X 2.0 Mtb R29 Shimano Alumin...   \n",
       "4  Bicicleta Nordic X1.0 By Slp R29 21v Disco Sus...   \n",
       "\n",
       "                                                link precios   fecha_obs  \n",
       "0  https://click1.mercadolibre.com.ar/mclics/clic...  26.240  2023-03-02  \n",
       "1  https://click1.mercadolibre.com.ar/mclics/clic...  90.999  2023-03-02  \n",
       "2  https://articulo.mercadolibre.com.ar/MLA-11497...  76.351  2023-03-02  \n",
       "3  https://articulo.mercadolibre.com.ar/MLA-11459...  79.284  2023-03-02  \n",
       "4  https://articulo.mercadolibre.com.ar/MLA-92954...  69.341  2023-03-02  "
      ]
     },
     "execution_count": 22,
     "metadata": {},
     "output_type": "execute_result"
    }
   ],
   "source": [
    "df = pd.DataFrame({'titulos': titulos, 'link':urls, 'precios': precios})\n",
    "df['fecha_obs'] = date.today()\n",
    "df.head()"
   ]
  },
  {
   "cell_type": "code",
   "execution_count": 26,
   "id": "19916f59",
   "metadata": {},
   "outputs": [
    {
     "data": {
      "text/plain": [
       "2240"
      ]
     },
     "execution_count": 26,
     "metadata": {},
     "output_type": "execute_result"
    }
   ],
   "source": [
    "40*56"
   ]
  },
  {
   "cell_type": "code",
   "execution_count": 25,
   "id": "d131520a",
   "metadata": {},
   "outputs": [
    {
     "data": {
      "text/plain": [
       "'https://articulo.mercadolibre.com.ar/MLA-929540052-bicicleta-nordic-x10-by-slp-r29-21v-disco-suspension-outlet-_JM#position=29&search_layout=stack&type=item&tracking_id=48ebe0f1-2542-4c5b-8fb8-c3cdcfdd4e43'"
      ]
     },
     "execution_count": 25,
     "metadata": {},
     "output_type": "execute_result"
    }
   ],
   "source": [
    "df.iloc[4]['link']"
   ]
  }
 ],
 "metadata": {
  "kernelspec": {
   "display_name": "Python 3 (ipykernel)",
   "language": "python",
   "name": "python3"
  },
  "language_info": {
   "codemirror_mode": {
    "name": "ipython",
    "version": 3
   },
   "file_extension": ".py",
   "mimetype": "text/x-python",
   "name": "python",
   "nbconvert_exporter": "python",
   "pygments_lexer": "ipython3",
   "version": "3.9.13"
  }
 },
 "nbformat": 4,
 "nbformat_minor": 5
}
