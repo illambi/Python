{
 "cells": [
  {
   "cell_type": "markdown",
   "id": "f7891896",
   "metadata": {},
   "source": [
    "# Web Scrapping de Linked In Jobs"
   ]
  },
  {
   "cell_type": "code",
   "execution_count": null,
   "id": "e344c7f6",
   "metadata": {},
   "outputs": [],
   "source": [
    "# generado por chat gpt"
   ]
  },
  {
   "cell_type": "code",
   "execution_count": null,
   "id": "a8a0e918",
   "metadata": {},
   "outputs": [],
   "source": []
  },
  {
   "cell_type": "code",
   "execution_count": null,
   "id": "23286dcb",
   "metadata": {},
   "outputs": [],
   "source": [
    "import linkedin\n",
    "from linkedin import OAuth2, LinkedInApplication\n",
    "\n",
    "# Define the API credentials\n",
    "API_KEY = \"YOUR_API_KEY\"\n",
    "API_SECRET = \"YOUR_API_SECRET\"\n",
    "ACCESS_TOKEN = \"YOUR_ACCESS_TOKEN\"\n",
    "\n",
    "# Authenticate with the LinkedIn API\n",
    "auth = OAuth2(API_KEY, API_SECRET, ACCESS_TOKEN, None)\n",
    "app = LinkedInApplication(auth)\n",
    "\n",
    "# Fetch job data using the Jobs API endpoint\n",
    "job_data = app.search_job(\n",
    "    keywords=\"Data Scientist\", \n",
    "    location=\"United States\", \n",
    "    max_results=10, \n",
    "    fields=[\"id\", \"company\", \"position\", \"description\", \"apply_url\"]\n",
    ")\n",
    "\n",
    "# Print the job data\n",
    "print(job_data)"
   ]
  }
 ],
 "metadata": {
  "kernelspec": {
   "display_name": "Python 3 (ipykernel)",
   "language": "python",
   "name": "python3"
  },
  "language_info": {
   "codemirror_mode": {
    "name": "ipython",
    "version": 3
   },
   "file_extension": ".py",
   "mimetype": "text/x-python",
   "name": "python",
   "nbconvert_exporter": "python",
   "pygments_lexer": "ipython3",
   "version": "3.9.13"
  }
 },
 "nbformat": 4,
 "nbformat_minor": 5
}
