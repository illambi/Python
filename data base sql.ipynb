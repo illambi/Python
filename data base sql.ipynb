{
 "cells": [
  {
   "cell_type": "code",
   "execution_count": null,
   "id": "996d041d",
   "metadata": {},
   "outputs": [],
   "source": []
  },
  {
   "cell_type": "code",
   "execution_count": null,
   "id": "f3bbe712",
   "metadata": {},
   "outputs": [],
   "source": []
  },
  {
   "cell_type": "code",
   "execution_count": null,
   "id": "5862fe77",
   "metadata": {},
   "outputs": [],
   "source": [
    "# [\n",
    "('Gaspar','Prado',27,1),\n",
    "('Jose','Martinez',32,1),\n",
    "('Diego','Maraboli',25,3),\n",
    "('Pablo','Quiroga',45,1),\n",
    "('Diego', 'Soto', 29, 3),\n",
    "(\"Juan\",\"Martínez\",52,1),\n",
    "('Alvaro','Cabello',26,1),\n",
    "('Candela','Kubar',28,1),\n",
    "('Johana','Iriarte',34,1),\n",
    "('Gaston','Yfran',31,1),\n",
    "('Matias', 'Blanco', 28,1),\n",
    "('Ana','Jara',38,1),\n",
    "('Miguel', 'Cash', 37,1),\n",
    "('Luciana','Martinez',28,1),\n",
    "('Tiago', 'Ridolfi', 22,1),\n",
    "('Ger','Rodriguez', 35,1),\n",
    "('Bruno','Gianini',26,1),\n",
    "('Odalis','Parilli',38,1),\n",
    "('Facundo','Ojeda','36','1'),\n",
    "('Yair', 'Mauad', 30, 1),\n",
    "('Agustin','Giulidori',25,1),\n",
    "('Carla','Vallejo',26,1),\n",
    "('Daniel','Galeano',35,1),\n",
    "(\"Franco\",\"Molina\",28,6),\n",
    "('Facundo','Deza',35,1),\n",
    "('Leonardo', 'Mesaglio', 40, 1),\n",
    "('Pilar','Sosa',25,1),\n",
    "('Nicolas','Zoppi',24,1),\n",
    "('Guillermo', 'vesidi', 28,1),\n",
    "('Fernando', 'Sancho', 40, 1),\n",
    "('Fernando','Odriozola',34,1),\n",
    "('Facundo','Imoda',22,1),\n",
    "('Simon','Baine',30,1),\n",
    "]"
   ]
  },
  {
   "cell_type": "code",
   "execution_count": 1,
   "id": "5c80b8b7",
   "metadata": {},
   "outputs": [],
   "source": [
    "import pandas as pd\n",
    "import numpy as np\n",
    "import sqlite3\n"
   ]
  },
  {
   "cell_type": "code",
   "execution_count": 2,
   "id": "ca4354ae",
   "metadata": {},
   "outputs": [],
   "source": [
    "#conectarse a la bd. si no existe la crea\n",
    "conn = sqlite3.connect('mydatabase.db')"
   ]
  },
  {
   "cell_type": "code",
   "execution_count": null,
   "id": "89fd7625",
   "metadata": {},
   "outputs": [],
   "source": [
    "#crear una tabla\n",
    "conn.execute(\n",
    "\"\"\"\n",
    "CREATE TABLE students\n",
    "(\n",
    "id INTEGER PRIMARY KEY,\n",
    "name TEXT not null)\n",
    "age INTEGER not null,\n",
    "\n",
    "\n",
    "\n",
    ")\n",
    "\n",
    "\"\"\")"
   ]
  }
 ],
 "metadata": {
  "kernelspec": {
   "display_name": "Python 3 (ipykernel)",
   "language": "python",
   "name": "python3"
  },
  "language_info": {
   "codemirror_mode": {
    "name": "ipython",
    "version": 3
   },
   "file_extension": ".py",
   "mimetype": "text/x-python",
   "name": "python",
   "nbconvert_exporter": "python",
   "pygments_lexer": "ipython3",
   "version": "3.9.13"
  }
 },
 "nbformat": 4,
 "nbformat_minor": 5
}
