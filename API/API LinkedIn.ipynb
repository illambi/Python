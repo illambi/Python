{
 "cells": [
  {
   "cell_type": "code",
   "execution_count": 1,
   "id": "d7ef3cfe",
   "metadata": {},
   "outputs": [
    {
     "name": "stdout",
     "output_type": "stream",
     "text": [
      "Defaulting to user installation because normal site-packages is not writeable\n",
      "Requirement already satisfied: python3-linkedin in c:\\users\\usuario\\appdata\\roaming\\python\\python39\\site-packages (1.0.2)\n",
      "Requirement already satisfied: requests>=2.8.1 in c:\\programdata\\anaconda3\\lib\\site-packages (from python3-linkedin) (2.28.1)\n",
      "Requirement already satisfied: requests-oauthlib>=0.5.0 in c:\\users\\usuario\\appdata\\roaming\\python\\python39\\site-packages (from python3-linkedin) (1.3.1)\n",
      "Requirement already satisfied: charset-normalizer<3,>=2 in c:\\programdata\\anaconda3\\lib\\site-packages (from requests>=2.8.1->python3-linkedin) (2.0.4)\n",
      "Requirement already satisfied: certifi>=2017.4.17 in c:\\programdata\\anaconda3\\lib\\site-packages (from requests>=2.8.1->python3-linkedin) (2022.9.14)\n",
      "Requirement already satisfied: urllib3<1.27,>=1.21.1 in c:\\programdata\\anaconda3\\lib\\site-packages (from requests>=2.8.1->python3-linkedin) (1.26.11)\n",
      "Requirement already satisfied: idna<4,>=2.5 in c:\\programdata\\anaconda3\\lib\\site-packages (from requests>=2.8.1->python3-linkedin) (3.3)\n",
      "Requirement already satisfied: oauthlib>=3.0.0 in c:\\users\\usuario\\appdata\\roaming\\python\\python39\\site-packages (from requests-oauthlib>=0.5.0->python3-linkedin) (3.2.2)\n",
      "Note: you may need to restart the kernel to use updated packages.\n"
     ]
    }
   ],
   "source": [
    "pip install python3-linkedin"
   ]
  },
  {
   "cell_type": "code",
   "execution_count": null,
   "id": "e106b1f4",
   "metadata": {},
   "outputs": [],
   "source": []
  },
  {
   "cell_type": "markdown",
   "id": "65bb1880",
   "metadata": {},
   "source": [
    "## TEST THE API"
   ]
  },
  {
   "cell_type": "code",
   "execution_count": null,
   "id": "7e1c565b",
   "metadata": {},
   "outputs": [
    {
     "name": "stdout",
     "output_type": "stream",
     "text": [
      "https://www.linkedin.com/uas/oauth2/authorization?response_type=code&client_id=77lnxt4kn82klj&scope=r_basicprofile%20r_emailaddress%20w_share%20rw_company_admin%20r_fullprofile%20r_contactinfo&state=914c270dd1b31b375b0dd8c3734e15cb&redirect_uri=http%3A//localhost%3A8000/\n"
     ]
    }
   ],
   "source": [
    "#To quickly test the library using an python interpreter, you can do that comfortably from the test server.\n",
    "#This will print the authorization url to the screen. Go into that URL using a browser to grant access to the application. After you do so, the method will return with an API object you can now use.\n",
    "\n",
    "KEY = '77lnxt4kn82klj'\n",
    "SECRET = 'abSC3UJ1ehlmO6fc'\n",
    "\n",
    "from linkedin import server\n",
    "application = server.quick_api(KEY, SECRET)"
   ]
  },
  {
   "cell_type": "code",
   "execution_count": null,
   "id": "5dbefc3a",
   "metadata": {},
   "outputs": [],
   "source": []
  },
  {
   "cell_type": "code",
   "execution_count": null,
   "id": "71872f43",
   "metadata": {},
   "outputs": [],
   "source": []
  }
 ],
 "metadata": {
  "kernelspec": {
   "display_name": "Python 3 (ipykernel)",
   "language": "python",
   "name": "python3"
  },
  "language_info": {
   "codemirror_mode": {
    "name": "ipython",
    "version": 3
   },
   "file_extension": ".py",
   "mimetype": "text/x-python",
   "name": "python",
   "nbconvert_exporter": "python",
   "pygments_lexer": "ipython3",
   "version": "3.9.13"
  }
 },
 "nbformat": 4,
 "nbformat_minor": 5
}
