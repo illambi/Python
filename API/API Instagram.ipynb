{
 "cells": [
  {
   "cell_type": "code",
   "execution_count": null,
   "id": "40ae6b4b",
   "metadata": {},
   "outputs": [],
   "source": []
  },
  {
   "cell_type": "code",
   "execution_count": 1,
   "id": "3e27ade1",
   "metadata": {},
   "outputs": [
    {
     "ename": "ModuleNotFoundError",
     "evalue": "No module named 'instagram'",
     "output_type": "error",
     "traceback": [
      "\u001b[1;31m---------------------------------------------------------------------------\u001b[0m",
      "\u001b[1;31mModuleNotFoundError\u001b[0m                       Traceback (most recent call last)",
      "\u001b[1;32m~\\AppData\\Local\\Temp\\ipykernel_23400\\2708248296.py\u001b[0m in \u001b[0;36m<module>\u001b[1;34m\u001b[0m\n\u001b[1;32m----> 1\u001b[1;33m \u001b[1;32mfrom\u001b[0m \u001b[0minstagram\u001b[0m\u001b[1;33m.\u001b[0m\u001b[0mclient\u001b[0m \u001b[1;32mimport\u001b[0m \u001b[0mInstagramAPI\u001b[0m\u001b[1;33m\u001b[0m\u001b[1;33m\u001b[0m\u001b[0m\n\u001b[0m\u001b[0;32m      2\u001b[0m \u001b[1;32mimport\u001b[0m \u001b[0msys\u001b[0m\u001b[1;33m\u001b[0m\u001b[1;33m\u001b[0m\u001b[0m\n\u001b[0;32m      3\u001b[0m \u001b[1;33m\u001b[0m\u001b[0m\n\u001b[0;32m      4\u001b[0m \u001b[1;32mif\u001b[0m \u001b[0mlen\u001b[0m\u001b[1;33m(\u001b[0m\u001b[0msys\u001b[0m\u001b[1;33m.\u001b[0m\u001b[0margv\u001b[0m\u001b[1;33m)\u001b[0m \u001b[1;33m>\u001b[0m \u001b[1;36m1\u001b[0m \u001b[1;32mand\u001b[0m \u001b[0msys\u001b[0m\u001b[1;33m.\u001b[0m\u001b[0margv\u001b[0m\u001b[1;33m[\u001b[0m\u001b[1;36m1\u001b[0m\u001b[1;33m]\u001b[0m \u001b[1;33m==\u001b[0m \u001b[1;34m'local'\u001b[0m\u001b[1;33m:\u001b[0m\u001b[1;33m\u001b[0m\u001b[1;33m\u001b[0m\u001b[0m\n\u001b[0;32m      5\u001b[0m     \u001b[1;32mtry\u001b[0m\u001b[1;33m:\u001b[0m\u001b[1;33m\u001b[0m\u001b[1;33m\u001b[0m\u001b[0m\n",
      "\u001b[1;31mModuleNotFoundError\u001b[0m: No module named 'instagram'"
     ]
    }
   ],
   "source": [
    "from instagram.client import InstagramAPI\n",
    "import sys\n",
    "\n",
    "if len(sys.argv) > 1 and sys.argv[1] == 'local':\n",
    "    try:\n",
    "        from test_settings import *\n",
    "\n",
    "        InstagramAPI.host = test_host\n",
    "        InstagramAPI.base_path = test_base_path\n",
    "        InstagramAPI.access_token_field = \"access_token\"\n",
    "        InstagramAPI.authorize_url = test_authorize_url\n",
    "        InstagramAPI.access_token_url = test_access_token_url\n",
    "        InstagramAPI.protocol = test_protocol\n",
    "    except Exception:\n",
    "        pass\n",
    "\n",
    "# Fix Python 2.x.\n",
    "try:\n",
    "    import __builtin__\n",
    "    input = getattr(__builtin__, 'raw_input')\n",
    "except (ImportError, AttributeError):\n",
    "    pass\n",
    "\n",
    "client_id = input(\"Client ID: \").strip()\n",
    "client_secret = input(\"Client Secret: \").strip()\n",
    "redirect_uri = input(\"Redirect URI: \").strip()\n",
    "raw_scope = input(\"Requested scope (separated by spaces, blank for just basic read): \").strip()\n",
    "scope = raw_scope.split(' ')\n",
    "# For basic, API seems to need to be set explicitly\n",
    "if not scope or scope == [\"\"]:\n",
    "    scope = [\"basic\"]\n",
    "\n",
    "api = InstagramAPI(client_id=client_id, client_secret=client_secret, redirect_uri=redirect_uri)\n",
    "redirect_uri = api.get_authorize_login_url(scope = scope)\n",
    "\n",
    "print (\"Visit this page and authorize access in your browser: \"+ redirect_uri)\n",
    "\n",
    "code = (str(input(\"Paste in code in query string after redirect: \").strip()))\n",
    "\n",
    "access_token = api.exchange_code_for_access_token(code)\n",
    "print (\"access token: \" )\n",
    "print (access_token)"
   ]
  },
  {
   "cell_type": "code",
   "execution_count": null,
   "id": "6fa16312",
   "metadata": {},
   "outputs": [],
   "source": []
  }
 ],
 "metadata": {
  "kernelspec": {
   "display_name": "Python 3 (ipykernel)",
   "language": "python",
   "name": "python3"
  },
  "language_info": {
   "codemirror_mode": {
    "name": "ipython",
    "version": 3
   },
   "file_extension": ".py",
   "mimetype": "text/x-python",
   "name": "python",
   "nbconvert_exporter": "python",
   "pygments_lexer": "ipython3",
   "version": "3.9.13"
  }
 },
 "nbformat": 4,
 "nbformat_minor": 5
}
